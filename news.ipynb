{
 "cells": [
  {
   "cell_type": "code",
   "execution_count": 25,
   "metadata": {},
   "outputs": [],
   "source": [
    "import pandas as pd"
   ]
  },
  {
   "cell_type": "code",
   "execution_count": 26,
   "metadata": {},
   "outputs": [
    {
     "data": {
      "text/html": [
       "<div>\n",
       "<style scoped>\n",
       "    .dataframe tbody tr th:only-of-type {\n",
       "        vertical-align: middle;\n",
       "    }\n",
       "\n",
       "    .dataframe tbody tr th {\n",
       "        vertical-align: top;\n",
       "    }\n",
       "\n",
       "    .dataframe thead th {\n",
       "        text-align: right;\n",
       "    }\n",
       "</style>\n",
       "<table border=\"1\" class=\"dataframe\">\n",
       "  <thead>\n",
       "    <tr style=\"text-align: right;\">\n",
       "      <th></th>\n",
       "      <th>url</th>\n",
       "      <th>content</th>\n",
       "    </tr>\n",
       "  </thead>\n",
       "  <tbody>\n",
       "    <tr>\n",
       "      <th>0</th>\n",
       "      <td>https://www.finam.ru/publications/item/indeks-...</td>\n",
       "      <td>В четверг российский рынок торгуется на позити...</td>\n",
       "    </tr>\n",
       "    <tr>\n",
       "      <th>1</th>\n",
       "      <td>https://www.finam.ru/publications/item/otchisl...</td>\n",
       "      <td>Госдума приняла закон о 3%-ном отчислении с до...</td>\n",
       "    </tr>\n",
       "    <tr>\n",
       "      <th>2</th>\n",
       "      <td>https://www.finam.ru/publications/item/indeks-...</td>\n",
       "      <td>Мы в целом позитивно смотрим на рынок акций, к...</td>\n",
       "    </tr>\n",
       "    <tr>\n",
       "      <th>3</th>\n",
       "      <td>https://www.finam.ru/publications/item/sberban...</td>\n",
       "      <td>В ноябре частные инвесторы вложили в ценные бу...</td>\n",
       "    </tr>\n",
       "    <tr>\n",
       "      <th>4</th>\n",
       "      <td>https://www.finam.ru/publications/item/s-kakim...</td>\n",
       "      <td>Подходит к концу тяжелый для фондового рынка г...</td>\n",
       "    </tr>\n",
       "  </tbody>\n",
       "</table>\n",
       "</div>"
      ],
      "text/plain": [
       "                                                 url  \\\n",
       "0  https://www.finam.ru/publications/item/indeks-...   \n",
       "1  https://www.finam.ru/publications/item/otchisl...   \n",
       "2  https://www.finam.ru/publications/item/indeks-...   \n",
       "3  https://www.finam.ru/publications/item/sberban...   \n",
       "4  https://www.finam.ru/publications/item/s-kakim...   \n",
       "\n",
       "                                             content  \n",
       "0  В четверг российский рынок торгуется на позити...  \n",
       "1  Госдума приняла закон о 3%-ном отчислении с до...  \n",
       "2  Мы в целом позитивно смотрим на рынок акций, к...  \n",
       "3  В ноябре частные инвесторы вложили в ценные бу...  \n",
       "4  Подходит к концу тяжелый для фондового рынка г...  "
      ]
     },
     "execution_count": 26,
     "metadata": {},
     "output_type": "execute_result"
    }
   ],
   "source": [
    "df= df = pd.read_csv('./data/ydex_news.csv')\n",
    "df.head()"
   ]
  },
  {
   "cell_type": "code",
   "execution_count": 7,
   "metadata": {},
   "outputs": [
    {
     "data": {
      "text/plain": [
       "'c:\\\\Users\\\\andrey\\\\AppData\\\\Local\\\\Programs\\\\Python\\\\Python312\\\\Lib\\\\site-packages\\\\certifi\\\\cacert.pem'"
      ]
     },
     "execution_count": 7,
     "metadata": {},
     "output_type": "execute_result"
    }
   ],
   "source": [
    "import certifi\n",
    "certifi.where()"
   ]
  },
  {
   "cell_type": "code",
   "execution_count": 40,
   "metadata": {},
   "outputs": [
    {
     "data": {
      "text/plain": [
       "AccessToken(access_token='eyJjdHkiOiJqd3QiLCJlbmMiOiJBMjU2Q0JDLUhTNTEyIiwiYWxnIjoiUlNBLU9BRVAtMjU2In0.Xcn31piajFxZXiUoApUFeQaoSdYdQuU6H90wrqokXIfFEGIFuWUA1MMFMgU6afU-7quHZSaokzoQ9BTAeghPrKUmm4Ypby1EWtav9HfDYrQYPu9ae9_dbhIHsAZajF-uDeOIo0zKEk0nKDR4lHe32u9biFIFd-14QF2_G_7uWoLCaUPCcHJ8aPxkjRdVHCKjBznqGUjhAsFVRu5espwGGiCtpIqzfjencSqUHj3VeiiznE9gMKZbnlczry42Ousn6QEJiQNkzGM3b2kWGevdS52A-zY1MU_27R22AO5TIolgfhBjIAN-_9RyziZWGkqQ-igfaadiFN62SanXWEg6lg.hVdavkYeGiL3k4R3yx7E1g.XBwR7UoQAI4pnlWEv9tD_fuS7Xe8XPaOlt2-RZ1C1dP5Uewx27NuIxodM4VJobsTDSoChAmdWedErQkoiBAo9aTrU6lpuV2-pi8hfviuoSGvynnQjBlQZm1E9lXDC7rEPY1qExPZtnLjT4no6Qe_la9JieadKasBoua0Bn1MNZO3TiJOhZ_VuN0_iHepn-nzo29xQTe4kz1rZQvo-ZwG6kbjnGrmT2-aTeeHZfKcpDsiRPqIT2wa-BQXdtz19n2GaD8mII3ZYWMRvA2Cnw0OuJvjfY8c29i__bbhOi8zsgB4ixd0ZdkhnG7a1UJEg3n82sq71rUaWnpERlRKgxFPAkfkwnoUckffNMa_usrSwTP7C4M5WkpmQFklYy0Lrn8Y4C-ne2P6IV11aIxBGDCg38WOCvi_xRlNej8MLP0l0prEF5ArA-r4fny6HiGB0eEdTgoOOayxj5Sw6wxeY-NR26NhGVFTXbsXJB9H5Zzj0h1k4kZmZSKP2aZtcu7UwJdgHrkt3gA-bv7TNDF3o4niS1hi1FRuNJdiMNwFhUPm5-JkEYhRwxAIiY0z4DdFWcDjw4KyU3YHzGjRf_l9tIhCwB6E5LqxGUOU9HpMa2B6vQkGU7R-88lLd_XC5Zp1p72KPcOxpfF-GQU6mKccmJvXOgqhF1U_nr2Y3CmzZgmIZ5yDBJaptx0Od7UIsfS3jqnwvHqyIYW9Y1_JsK6DA2NbVylAyZzDMQ8hAEZeRB4Bw5Y.pyHDxg7fHQHBGQJfJjimvngyL4ABzCvBAlnKohJnQ2s', expires_at=1734176258754)"
      ]
     },
     "execution_count": 40,
     "metadata": {},
     "output_type": "execute_result"
    }
   ],
   "source": [
    "from gigachat import GigaChat\n",
    "\n",
    "\n",
    "model = GigaChat(\n",
    "   credentials=\"ZjA5MzNjNDktYjYxZC00NTBhLWE1MWEtMTFiYzg3YmZmOGJjOmI4NTUyMmE3LTAzMjUtNDJkZi04NTZiLTY4MDY1N2JlYTY3Yg==\",\n",
    "   scope=\"GIGACHAT_API_PERS\",\n",
    "   model=\"GigaChat\",\n",
    ")\n",
    "model.get_token()"
   ]
  },
  {
   "cell_type": "code",
   "execution_count": 22,
   "metadata": {},
   "outputs": [
    {
     "name": "stdout",
     "output_type": "stream",
     "text": [
      "Я – нейросетевая модель искусственного интеллекта по имени GigaChat. Меня создали для того, чтобы помогать людям решать самые разные задачи: от ответов на вопросы и анализа текстов до генерации контента и программирования. Моя цель – сделать взаимодействие с информацией проще и удобнее, а также облегчить выполнение различных задач.\n",
      "\n",
      "Я обучен на большом количестве текстовых данных, что позволяет мне понимать контекст запросов и давать точные ответы. Кроме того, я стараюсь быть вежливым и корректным в общении, учитывать культурные особенности и нормы общения. \n",
      "\n",
      "Однако важно помнить, что я не человек, и у меня нет собственного мнения или эмоций. Все мои ответы основаны исключительно на информации, которой я был обучен, и алгоритмах обработки данных. Поэтому иногда могут возникать ошибки или ситуации, когда мой ответ может показаться недостаточно точным или даже неверным – это часть процесса обучения и совершенствования моделей такого рода.\n",
      "\n",
      "Если тебе нужно решить задачу, узнать информацию или просто пообщаться, я здесь, чтобы помочь!\n"
     ]
    }
   ],
   "source": [
    "response = model.chat(\"Расскажи о себе подробно\")\n",
    "\n",
    "print(response.choices[0].message.content)"
   ]
  },
  {
   "cell_type": "code",
   "execution_count": 41,
   "metadata": {},
   "outputs": [],
   "source": [
    "for i in range(len(df)):\n",
    "    df.loc[i, 'target'] =  model.chat(\"Охарактеризуй слудующую новость с точки зрения компании яндекс:\\n\" + df.loc[i, 'content'] + \" только одним из трех слов: позитивно, нейтрально, негативно\\nничего больше не пиши.\").choices[0].message.content"
   ]
  },
  {
   "cell_type": "code",
   "execution_count": null,
   "metadata": {},
   "outputs": [],
   "source": [
    "df.to_csv(f\"./data/news.csv\", index=False, encoding='utf-8')"
   ]
  },
  {
   "cell_type": "code",
   "execution_count": 50,
   "metadata": {},
   "outputs": [
    {
     "data": {
      "text/plain": [
       "array(['Негативно.', 'Нейтрально.', 'Позитивно.'], dtype=object)"
      ]
     },
     "execution_count": 50,
     "metadata": {},
     "output_type": "execute_result"
    }
   ],
   "source": [
    "df= pd.read_csv('./data/news.csv')\n",
    "df['target'].unique()"
   ]
  },
  {
   "cell_type": "code",
   "execution_count": 63,
   "metadata": {},
   "outputs": [
    {
     "name": "stderr",
     "output_type": "stream",
     "text": [
      "[nltk_data] Downloading package stopwords to\n",
      "[nltk_data]     C:\\Users\\andrey\\AppData\\Roaming\\nltk_data...\n",
      "[nltk_data]   Package stopwords is already up-to-date!\n",
      "[nltk_data] Downloading package punkt to\n",
      "[nltk_data]     C:\\Users\\andrey\\AppData\\Roaming\\nltk_data...\n",
      "[nltk_data]   Package punkt is already up-to-date!\n",
      "[nltk_data] Downloading package punkt_tab to\n",
      "[nltk_data]     C:\\Users\\andrey\\AppData\\Roaming\\nltk_data...\n",
      "[nltk_data]   Unzipping tokenizers\\punkt_tab.zip.\n"
     ]
    },
    {
     "data": {
      "text/plain": [
       "True"
      ]
     },
     "execution_count": 63,
     "metadata": {},
     "output_type": "execute_result"
    }
   ],
   "source": [
    "from nltk.corpus import stopwords\n",
    "from nltk.tokenize import word_tokenize\n",
    "import nltk\n",
    "\n",
    "nltk.download('stopwords')\n",
    "nltk.download('punkt')\n",
    "nltk.download('punkt_tab')"
   ]
  },
  {
   "cell_type": "code",
   "execution_count": 65,
   "metadata": {},
   "outputs": [
    {
     "data": {
      "text/plain": [
       "'госдума приняла закон 3ном отчислении доходов интернетрекламы 1 апреля 2025 г сбор должны платить распространители рекламы интернете операторы рекламных систем это касается лишь отдельных сайтов числе теле радиоканалов информационных агентств отчисления предлагают направить поддержку разработчиков реестра российского также планируется счет сбора поддерживать развитие работу информационных ресурсов список которых определит правительство законопроект принят третьем чтении направлен рассмотрение совет федерации влияние умеренно негативное возможности введения сбора новостные агентства сообщали ноябре нововведение основном касается яндекса вк вероятно затронет другие компании получающие доход рекламы интернете например маркетплейсы включая ozon эффект сбора зависеть степени компании смогут перенести цену спрос онлайнрекламу высокий количество качественных платформ размещения уменьшилось 2022 г поэтому полагаем последствия справедливой оценки бумаг могут ограниченными нашим расчетам негативное влияние целевые цены компаний вряд превысит 5 скорее окажется менее существенным оценка позитивный взгляд акции яндекса нейтральный вк акции яндекса торгуются оценкой 114х мультипликатору pe базе нашего прогноза прибыли 2025 г наш взгляд это привлекательный уровень учитывая перспективы роста прибыли компании нейтральный взгляд акции вк которые торгуется evebitda 112х отрицательным pe 2025п которой ждем улучшения рентабельности последующие годы'"
      ]
     },
     "execution_count": 65,
     "metadata": {},
     "output_type": "execute_result"
    }
   ],
   "source": [
    "import re\n",
    "\n",
    "def clean_text(text):\n",
    "    text = text.replace('\\xa0', ' ').replace('\\n', ' ')\n",
    "    text = re.sub(r'[\\s]+', ' ', text)\n",
    "    return re.sub(r'[^\\w\\s]', '', text).strip()\n",
    "\n",
    "def remove_stopwords(text):\n",
    "    stop_words = set(stopwords.words('russian'))\n",
    "    words = word_tokenize(text)\n",
    "    filtered_text = ' '.join([word.lower() for word in words if word.lower() not in stop_words])\n",
    "    return filtered_text\n",
    "\n",
    "df['words'] = df['content'].apply(clean_text).apply(remove_stopwords)\n",
    "df.loc[1, 'words']"
   ]
  },
  {
   "cell_type": "code",
   "execution_count": 66,
   "metadata": {},
   "outputs": [],
   "source": [
    "df.to_csv(f\"./data/clean_news.csv\", index=False, encoding='utf-8')"
   ]
  },
  {
   "cell_type": "code",
   "execution_count": 68,
   "metadata": {},
   "outputs": [
    {
     "name": "stdout",
     "output_type": "stream",
     "text": [
      "              precision    recall  f1-score   support\n",
      "\n",
      " Нейтрально.       0.33      0.67      0.44         3\n",
      "  Позитивно.       0.75      0.43      0.55         7\n",
      "\n",
      "    accuracy                           0.50        10\n",
      "   macro avg       0.54      0.55      0.49        10\n",
      "weighted avg       0.62      0.50      0.52        10\n",
      "\n"
     ]
    }
   ],
   "source": [
    "from sklearn.model_selection import train_test_split\n",
    "from sklearn.feature_extraction.text import TfidfVectorizer\n",
    "from sklearn.ensemble import RandomForestClassifier\n",
    "from sklearn.metrics import classification_report\n",
    "\n",
    "X = df['words']\n",
    "y = df['target']\n",
    "\n",
    "vectorizer = TfidfVectorizer(max_features=500)\n",
    "X_vectorized = vectorizer.fit_transform(X)\n",
    "\n",
    "X_train, X_test, y_train, y_test = train_test_split(X_vectorized, y, test_size=0.2, random_state=42)\n",
    "\n",
    "model = RandomForestClassifier(random_state=42)\n",
    "model.fit(X_train, y_train)\n",
    "\n",
    "y_pred = model.predict(X_test)\n",
    "report = classification_report(y_test, y_pred)\n",
    "\n",
    "print(report)\n"
   ]
  }
 ],
 "metadata": {
  "kernelspec": {
   "display_name": "Python 3",
   "language": "python",
   "name": "python3"
  },
  "language_info": {
   "codemirror_mode": {
    "name": "ipython",
    "version": 3
   },
   "file_extension": ".py",
   "mimetype": "text/x-python",
   "name": "python",
   "nbconvert_exporter": "python",
   "pygments_lexer": "ipython3",
   "version": "3.12.0"
  }
 },
 "nbformat": 4,
 "nbformat_minor": 2
}
