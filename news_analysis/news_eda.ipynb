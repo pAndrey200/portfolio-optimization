{
  "cells": [
    {
      "cell_type": "code",
      "execution_count": 34,
      "metadata": {
        "id": "H0HHVDl5DVcv"
      },
      "outputs": [],
      "source": [
        "import pandas as pd"
      ]
    },
    {
      "cell_type": "code",
      "execution_count": 35,
      "metadata": {
        "colab": {
          "base_uri": "https://localhost:8080/",
          "height": 304
        },
        "id": "euARMdwJDofO",
        "outputId": "e89e04d6-5e25-4bbb-d750-7657cfeaff88"
      },
      "outputs": [
        {
          "name": "stderr",
          "output_type": "stream",
          "text": [
            "<>:1: SyntaxWarning: invalid escape sequence '\\l'\n",
            "<>:1: SyntaxWarning: invalid escape sequence '\\l'\n",
            "C:\\Users\\andrey\\AppData\\Local\\Temp\\ipykernel_28752\\3970435422.py:1: SyntaxWarning: invalid escape sequence '\\l'\n",
            "  df = pd.read_csv('data\\lenta_2024-01-01_2024-12-24_T.csv')\n"
          ]
        },
        {
          "data": {
            "text/plain": [
              "Index(['Unnamed: 0', 'docid', 'url', 'title', 'modified', 'lastmodtime',\n",
              "       'type', 'domain', 'status', 'part', 'bloc', 'tags', 'image_url',\n",
              "       'pubdate', 'text', 'rightcol', 'snippet', 'ticket', 'target'],\n",
              "      dtype='object')"
            ]
          },
          "execution_count": 35,
          "metadata": {},
          "output_type": "execute_result"
        }
      ],
      "source": [
        "df = pd.read_csv('data\\lenta_2024-01-01_2024-12-24_T.csv')\n",
        "df.columns"
      ]
    },
    {
      "cell_type": "code",
      "execution_count": 36,
      "metadata": {
        "id": "uHzN6AzdEX8H"
      },
      "outputs": [],
      "source": [
        "df = df.drop(['Unnamed: 0', 'modified', 'lastmodtime',\n",
        "       'type', 'domain', 'status', 'part', 'bloc', 'tags', 'image_url',\n",
        "       'rightcol', 'snippet'], axis=1)\n"
      ]
    },
    {
      "cell_type": "code",
      "execution_count": 37,
      "metadata": {
        "id": "LauwpDu_FeNv"
      },
      "outputs": [],
      "source": [
        "df = df.dropna(subset=['target'])"
      ]
    },
    {
      "cell_type": "code",
      "execution_count": 38,
      "metadata": {
        "id": "EQRHpjfzF0HT"
      },
      "outputs": [
        {
          "data": {
            "text/plain": [
              "(38, 7)"
            ]
          },
          "execution_count": 38,
          "metadata": {},
          "output_type": "execute_result"
        }
      ],
      "source": [
        "df.shape"
      ]
    },
    {
      "cell_type": "code",
      "execution_count": 39,
      "metadata": {
        "colab": {
          "base_uri": "https://localhost:8080/"
        },
        "id": "CaSIa9QdGuQ-",
        "outputId": "ee51b8c4-def0-4b40-9ea2-fc0f414ce6d0"
      },
      "outputs": [
        {
          "name": "stderr",
          "output_type": "stream",
          "text": [
            "[nltk_data] Downloading package stopwords to\n",
            "[nltk_data]     C:\\Users\\andrey\\AppData\\Roaming\\nltk_data...\n",
            "[nltk_data]   Package stopwords is already up-to-date!\n",
            "[nltk_data] Downloading package punkt to\n",
            "[nltk_data]     C:\\Users\\andrey\\AppData\\Roaming\\nltk_data...\n",
            "[nltk_data]   Package punkt is already up-to-date!\n",
            "[nltk_data] Downloading package punkt_tab to\n",
            "[nltk_data]     C:\\Users\\andrey\\AppData\\Roaming\\nltk_data...\n",
            "[nltk_data]   Package punkt_tab is already up-to-date!\n"
          ]
        },
        {
          "data": {
            "text/plain": [
              "True"
            ]
          },
          "execution_count": 39,
          "metadata": {},
          "output_type": "execute_result"
        }
      ],
      "source": [
        "from nltk.corpus import stopwords\n",
        "from nltk.tokenize import word_tokenize\n",
        "import nltk\n",
        "\n",
        "nltk.download('stopwords')\n",
        "nltk.download('punkt')\n",
        "nltk.download('punkt_tab')"
      ]
    },
    {
      "cell_type": "code",
      "execution_count": 40,
      "metadata": {
        "colab": {
          "base_uri": "https://localhost:8080/",
          "height": 209
        },
        "id": "uD3r2B8NOMPY",
        "outputId": "79af544a-ec57-4714-d4c9-ce8668fb8635"
      },
      "outputs": [
        {
          "data": {
            "text/plain": [
              "'фото maksim konstantinov global look press дмитрий воронин аналитики некоторых российских банков заявили снизившемся впервые четыре года числе мошеннических действий отношении клиентов кредитных организаций 2023 году увеличилась доля успешных атак средний размер похищенного стали активно использоваться новые технологии включая нейросети отмечают опрошенные рбк специалисты абсолютных значениях количество попыток совершения мошеннических операций действительно снижается оценил замначальника департамента защиты информации газпромбанка алексей плешков отметил уводить средства счетов жертвы злоумышленники процентном отношении стали чаще очередь тинькофф банке 2023 году выявили рост отношения попыток мошенничества количеству клиентов 17 процентов заявили наблюдаемом буме возникновения финансовых пирамид лжеброкеров попрежнему остро стоящей проблеме телефонным мошенничеством лаборатории касперского также видят снижения числа мошеннических атак банковских клиентов числе количество фишинговых скамссылок доменной зонеru которые заблокировала компания увеличилось 5 сравнению 2022 годом указал главный эксперт сергей голованов словам схемы злоумышленников усложнились став целевыми многоступенчатыми применением звонков мессенджерах подделок telegram ранее россиян предупредили активно использующейся схеме мошенничества построенной переводах средств специальный счет центробанке'"
            ]
          },
          "execution_count": 40,
          "metadata": {},
          "output_type": "execute_result"
        }
      ],
      "source": [
        "import re\n",
        "\n",
        "def clean_text(text):\n",
        "    text = text.replace('\\xa0', ' ').replace('\\n', ' ')\n",
        "    text = re.sub(r'[\\s]+', ' ', text)\n",
        "    return re.sub(r'[^\\w\\s]', '', text).strip()\n",
        "\n",
        "def remove_stopwords(text):\n",
        "    stop_words = set(stopwords.words('russian'))\n",
        "    words = word_tokenize(text)\n",
        "    filtered_text = ' '.join([word.lower() for word in words if word.lower() not in stop_words])\n",
        "    return filtered_text\n",
        "\n",
        "df['words'] = df['text'].apply(clean_text).apply(remove_stopwords)\n",
        "df.loc[1, 'words']"
      ]
    },
    {
      "cell_type": "code",
      "execution_count": 41,
      "metadata": {
        "id": "h0AXSuTdOdmi"
      },
      "outputs": [],
      "source": [
        "from sklearn.model_selection import train_test_split, GridSearchCV\n",
        "\n",
        "X = df['words']\n",
        "y = df['target']"
      ]
    },
    {
      "cell_type": "code",
      "execution_count": 42,
      "metadata": {
        "id": "Jq67bsgmc4tD"
      },
      "outputs": [],
      "source": [
        "from sklearn.feature_extraction.text import TfidfVectorizer\n",
        "vectorizer = TfidfVectorizer(max_features=500)\n",
        "X_vectorized = vectorizer.fit_transform(X)\n",
        "\n",
        "X_train, X_test, y_train, y_test = train_test_split(X_vectorized, y, test_size=0.2, random_state=42)\n",
        "\n"
      ]
    },
    {
      "cell_type": "code",
      "execution_count": 43,
      "metadata": {
        "id": "XMdJKQ2Q4wy0"
      },
      "outputs": [],
      "source": [
        "from sklearn.metrics import mean_squared_error, mean_absolute_error, r2_score\n",
        "from sklearn.linear_model import LinearRegression\n",
        "from sklearn.svm import SVR\n",
        "from sklearn.ensemble import RandomForestRegressor\n",
        "\n",
        "param_grids = {\n",
        "    'LinearRegression': {},  # Нет гиперпараметров для настройки\n",
        "    'RandomForest': {\n",
        "        'n_estimators': [100, 200, 300],\n",
        "        'max_depth': [None, 10, 20],\n",
        "    },\n",
        "    'SVR': {\n",
        "        'kernel': ['linear', 'rbf'],\n",
        "        'C': [0.1, 1, 10],\n",
        "        'gamma': ['scale', 'auto'],\n",
        "    },\n",
        "}\n",
        "\n",
        "models = {\n",
        "    'LinearRegression': LinearRegression(),\n",
        "    'RandomForest': RandomForestRegressor(random_state=42),\n",
        "    'SVR': SVR(),\n",
        "}"
      ]
    },
    {
      "cell_type": "code",
      "execution_count": 44,
      "metadata": {
        "colab": {
          "base_uri": "https://localhost:8080/"
        },
        "id": "pF3zUyY00RBH",
        "outputId": "9ce56cf0-a5a2-430d-8e79-7d68aa6e806f"
      },
      "outputs": [
        {
          "name": "stdout",
          "output_type": "stream",
          "text": [
            "Training LinearRegression...\n",
            "Completed LinearRegression: {'MSE': 0.00041562982266398927, 'MAE': 0.01578416426326483, 'R2': -0.10097007810892333}\n",
            "Training RandomForest...\n",
            "Completed RandomForest: {'MSE': 0.00038061942994301696, 'MAE': 0.012596016009067592, 'R2': -0.008230354665655248}\n",
            "Training SVR...\n",
            "Completed SVR: {'MSE': 0.0004224649060080401, 'MAE': 0.017161830360461025, 'R2': -0.11907566590083762}\n",
            "\n",
            "Summary of Results:\n",
            "LinearRegression: Best Params: {} - Metrics: {'MSE': 0.00041562982266398927, 'MAE': 0.01578416426326483, 'R2': -0.10097007810892333}\n",
            "RandomForest: Best Params: {'max_depth': None, 'n_estimators': 300} - Metrics: {'MSE': 0.00038061942994301696, 'MAE': 0.012596016009067592, 'R2': -0.008230354665655248}\n",
            "SVR: Best Params: {'C': 0.1, 'gamma': 'scale', 'kernel': 'linear'} - Metrics: {'MSE': 0.0004224649060080401, 'MAE': 0.017161830360461025, 'R2': -0.11907566590083762}\n"
          ]
        }
      ],
      "source": [
        "metrics = {\n",
        "    'MSE': mean_squared_error,\n",
        "    'MAE': mean_absolute_error,\n",
        "    'R2': r2_score,\n",
        "}\n",
        "\n",
        "# Результаты\n",
        "results = {}\n",
        "\n",
        "# Обучение моделей\n",
        "for model_name, model in models.items():\n",
        "    print(f\"Training {model_name}...\")\n",
        "\n",
        "    # Настройка гиперпараметров\n",
        "    grid_search = GridSearchCV(model, param_grids.get(model_name, {}), cv=3, scoring='neg_mean_squared_error', n_jobs=-1)\n",
        "    grid_search.fit(X_train, y_train)\n",
        "\n",
        "    # Лучшие параметры и модель\n",
        "    best_model = grid_search.best_estimator_\n",
        "    results[model_name] = {'best_params': grid_search.best_params_}\n",
        "\n",
        "    # Предсказания\n",
        "    y_pred = best_model.predict(X_test)\n",
        "\n",
        "    # Оценка метрик\n",
        "    results[model_name]['metrics'] = {metric_name: metric_func(y_test, y_pred) for metric_name, metric_func in metrics.items()}\n",
        "    print(f\"Completed {model_name}: {results[model_name]['metrics']}\")\n",
        "\n",
        "# Вывод результатов\n",
        "print(\"\\nSummary of Results:\")\n",
        "for model_name, result in results.items():\n",
        "    print(f\"{model_name}: Best Params: {result['best_params']} - Metrics: {result['metrics']}\")\n"
      ]
    }
  ],
  "metadata": {
    "colab": {
      "provenance": []
    },
    "kernelspec": {
      "display_name": "Python 3",
      "name": "python3"
    },
    "language_info": {
      "codemirror_mode": {
        "name": "ipython",
        "version": 3
      },
      "file_extension": ".py",
      "mimetype": "text/x-python",
      "name": "python",
      "nbconvert_exporter": "python",
      "pygments_lexer": "ipython3",
      "version": "3.12.0"
    }
  },
  "nbformat": 4,
  "nbformat_minor": 0
}
