{
 "cells": [
  {
   "cell_type": "code",
   "execution_count": 126,
   "metadata": {},
   "outputs": [],
   "source": [
    "import pandas as pd"
   ]
  },
  {
   "cell_type": "code",
   "execution_count": 127,
   "metadata": {},
   "outputs": [
    {
     "data": {
      "text/html": [
       "<div>\n",
       "<style scoped>\n",
       "    .dataframe tbody tr th:only-of-type {\n",
       "        vertical-align: middle;\n",
       "    }\n",
       "\n",
       "    .dataframe tbody tr th {\n",
       "        vertical-align: top;\n",
       "    }\n",
       "\n",
       "    .dataframe thead th {\n",
       "        text-align: right;\n",
       "    }\n",
       "</style>\n",
       "<table border=\"1\" class=\"dataframe\">\n",
       "  <thead>\n",
       "    <tr style=\"text-align: right;\">\n",
       "      <th></th>\n",
       "      <th>url</th>\n",
       "      <th>content</th>\n",
       "      <th>date</th>\n",
       "    </tr>\n",
       "  </thead>\n",
       "  <tbody>\n",
       "    <tr>\n",
       "      <th>0</th>\n",
       "      <td>https://www.finam.ru/publications/item/vysokik...</td>\n",
       "      <td>Северсталь может пересмотреть инвестиции в 202...</td>\n",
       "      <td>23.12.24 11:20</td>\n",
       "    </tr>\n",
       "    <tr>\n",
       "      <th>1</th>\n",
       "      <td>https://www.finam.ru/publications/item/aktsii-...</td>\n",
       "      <td>Индекс МосБиржи взлетел почти на 9% после реше...</td>\n",
       "      <td>23.12.24 09:50</td>\n",
       "    </tr>\n",
       "    <tr>\n",
       "      <th>2</th>\n",
       "      <td>https://www.finam.ru/publications/item/indeks-...</td>\n",
       "      <td>Во вторник, 17 декабря, российский фондовый ры...</td>\n",
       "      <td>17.12.24 19:26</td>\n",
       "    </tr>\n",
       "    <tr>\n",
       "      <th>3</th>\n",
       "      <td>https://www.finam.ru/publications/item/portfel...</td>\n",
       "      <td>Российский рынок приближается к завершению год...</td>\n",
       "      <td>17.12.24 18:08</td>\n",
       "    </tr>\n",
       "    <tr>\n",
       "      <th>4</th>\n",
       "      <td>https://www.finam.ru/publications/item/dividen...</td>\n",
       "      <td>Российский фондовый рынок после стремительного...</td>\n",
       "      <td>17.12.24 14:31</td>\n",
       "    </tr>\n",
       "  </tbody>\n",
       "</table>\n",
       "</div>"
      ],
      "text/plain": [
       "                                                 url  \\\n",
       "0  https://www.finam.ru/publications/item/vysokik...   \n",
       "1  https://www.finam.ru/publications/item/aktsii-...   \n",
       "2  https://www.finam.ru/publications/item/indeks-...   \n",
       "3  https://www.finam.ru/publications/item/portfel...   \n",
       "4  https://www.finam.ru/publications/item/dividen...   \n",
       "\n",
       "                                             content            date  \n",
       "0  Северсталь может пересмотреть инвестиции в 202...  23.12.24 11:20  \n",
       "1  Индекс МосБиржи взлетел почти на 9% после реше...  23.12.24 09:50  \n",
       "2  Во вторник, 17 декабря, российский фондовый ры...  17.12.24 19:26  \n",
       "3  Российский рынок приближается к завершению год...  17.12.24 18:08  \n",
       "4  Российский фондовый рынок после стремительного...  17.12.24 14:31  "
      ]
     },
     "execution_count": 127,
     "metadata": {},
     "output_type": "execute_result"
    }
   ],
   "source": [
    "df = pd.read_csv('./data/CHMF_news.csv')\n",
    "df.head()"
   ]
  },
  {
   "cell_type": "code",
   "execution_count": 128,
   "metadata": {},
   "outputs": [
    {
     "name": "stdout",
     "output_type": "stream",
     "text": [
      "<class 'pandas.core.frame.DataFrame'>\n",
      "Index: 1070 entries, 0 to 1073\n",
      "Data columns (total 3 columns):\n",
      " #   Column   Non-Null Count  Dtype \n",
      "---  ------   --------------  ----- \n",
      " 0   url      1070 non-null   object\n",
      " 1   content  1070 non-null   object\n",
      " 2   date     1070 non-null   object\n",
      "dtypes: object(3)\n",
      "memory usage: 33.4+ KB\n"
     ]
    }
   ],
   "source": [
    "df = df.dropna()\n",
    "df.info()"
   ]
  },
  {
   "cell_type": "code",
   "execution_count": 129,
   "metadata": {},
   "outputs": [
    {
     "name": "stderr",
     "output_type": "stream",
     "text": [
      "C:\\Users\\andrey\\AppData\\Local\\Temp\\ipykernel_7488\\780719842.py:1: UserWarning: Could not infer format, so each element will be parsed individually, falling back to `dateutil`. To ensure parsing is consistent and as-expected, please specify a format.\n",
      "  df['Date'] = pd.to_datetime(df.date).dt.date\n"
     ]
    },
    {
     "data": {
      "text/html": [
       "<div>\n",
       "<style scoped>\n",
       "    .dataframe tbody tr th:only-of-type {\n",
       "        vertical-align: middle;\n",
       "    }\n",
       "\n",
       "    .dataframe tbody tr th {\n",
       "        vertical-align: top;\n",
       "    }\n",
       "\n",
       "    .dataframe thead th {\n",
       "        text-align: right;\n",
       "    }\n",
       "</style>\n",
       "<table border=\"1\" class=\"dataframe\">\n",
       "  <thead>\n",
       "    <tr style=\"text-align: right;\">\n",
       "      <th></th>\n",
       "      <th>url</th>\n",
       "      <th>content</th>\n",
       "      <th>Date</th>\n",
       "    </tr>\n",
       "  </thead>\n",
       "  <tbody>\n",
       "    <tr>\n",
       "      <th>0</th>\n",
       "      <td>https://www.finam.ru/publications/item/vysokik...</td>\n",
       "      <td>Северсталь может пересмотреть инвестиции в 202...</td>\n",
       "      <td>2024-12-23</td>\n",
       "    </tr>\n",
       "    <tr>\n",
       "      <th>1</th>\n",
       "      <td>https://www.finam.ru/publications/item/aktsii-...</td>\n",
       "      <td>Индекс МосБиржи взлетел почти на 9% после реше...</td>\n",
       "      <td>2024-12-23</td>\n",
       "    </tr>\n",
       "    <tr>\n",
       "      <th>2</th>\n",
       "      <td>https://www.finam.ru/publications/item/indeks-...</td>\n",
       "      <td>Во вторник, 17 декабря, российский фондовый ры...</td>\n",
       "      <td>2024-12-17</td>\n",
       "    </tr>\n",
       "    <tr>\n",
       "      <th>3</th>\n",
       "      <td>https://www.finam.ru/publications/item/portfel...</td>\n",
       "      <td>Российский рынок приближается к завершению год...</td>\n",
       "      <td>2024-12-17</td>\n",
       "    </tr>\n",
       "    <tr>\n",
       "      <th>4</th>\n",
       "      <td>https://www.finam.ru/publications/item/dividen...</td>\n",
       "      <td>Российский фондовый рынок после стремительного...</td>\n",
       "      <td>2024-12-17</td>\n",
       "    </tr>\n",
       "  </tbody>\n",
       "</table>\n",
       "</div>"
      ],
      "text/plain": [
       "                                                 url  \\\n",
       "0  https://www.finam.ru/publications/item/vysokik...   \n",
       "1  https://www.finam.ru/publications/item/aktsii-...   \n",
       "2  https://www.finam.ru/publications/item/indeks-...   \n",
       "3  https://www.finam.ru/publications/item/portfel...   \n",
       "4  https://www.finam.ru/publications/item/dividen...   \n",
       "\n",
       "                                             content        Date  \n",
       "0  Северсталь может пересмотреть инвестиции в 202...  2024-12-23  \n",
       "1  Индекс МосБиржи взлетел почти на 9% после реше...  2024-12-23  \n",
       "2  Во вторник, 17 декабря, российский фондовый ры...  2024-12-17  \n",
       "3  Российский рынок приближается к завершению год...  2024-12-17  \n",
       "4  Российский фондовый рынок после стремительного...  2024-12-17  "
      ]
     },
     "execution_count": 129,
     "metadata": {},
     "output_type": "execute_result"
    }
   ],
   "source": [
    "df['Date'] = pd.to_datetime(df.date).dt.date\n",
    "df.drop('date', axis=1, inplace=True)\n",
    "df.head()"
   ]
  },
  {
   "cell_type": "code",
   "execution_count": 130,
   "metadata": {},
   "outputs": [],
   "source": [
    "df['news_combined'] = df.groupby(['Date'])['content'].transform(lambda x: ' '.join(x))\n",
    "df.drop_duplicates(subset =\"Date\", keep = 'first', inplace = True)\n",
    "df.drop(['content'], axis=1, inplace=True)"
   ]
  },
  {
   "cell_type": "code",
   "execution_count": 131,
   "metadata": {},
   "outputs": [
    {
     "data": {
      "text/html": [
       "<div>\n",
       "<style scoped>\n",
       "    .dataframe tbody tr th:only-of-type {\n",
       "        vertical-align: middle;\n",
       "    }\n",
       "\n",
       "    .dataframe tbody tr th {\n",
       "        vertical-align: top;\n",
       "    }\n",
       "\n",
       "    .dataframe thead th {\n",
       "        text-align: right;\n",
       "    }\n",
       "</style>\n",
       "<table border=\"1\" class=\"dataframe\">\n",
       "  <thead>\n",
       "    <tr style=\"text-align: right;\">\n",
       "      <th></th>\n",
       "      <th>url</th>\n",
       "      <th>news_combined</th>\n",
       "    </tr>\n",
       "    <tr>\n",
       "      <th>Date</th>\n",
       "      <th></th>\n",
       "      <th></th>\n",
       "    </tr>\n",
       "  </thead>\n",
       "  <tbody>\n",
       "    <tr>\n",
       "      <th>2024-12-23</th>\n",
       "      <td>https://www.finam.ru/publications/item/vysokik...</td>\n",
       "      <td>Северсталь может пересмотреть инвестиции в 202...</td>\n",
       "    </tr>\n",
       "    <tr>\n",
       "      <th>2024-12-17</th>\n",
       "      <td>https://www.finam.ru/publications/item/indeks-...</td>\n",
       "      <td>Во вторник, 17 декабря, российский фондовый ры...</td>\n",
       "    </tr>\n",
       "    <tr>\n",
       "      <th>2024-12-16</th>\n",
       "      <td>https://www.finam.ru/publications/item/aktsion...</td>\n",
       "      <td>В понедельник, 16 декабря, акционеры «Лензолот...</td>\n",
       "    </tr>\n",
       "    <tr>\n",
       "      <th>2024-12-13</th>\n",
       "      <td>https://www.finam.ru/publications/item/perspek...</td>\n",
       "      <td>Давайте поговорим о нашем видении перспектив р...</td>\n",
       "    </tr>\n",
       "    <tr>\n",
       "      <th>2024-09-12</th>\n",
       "      <td>https://www.finam.ru/publications/item/aktsion...</td>\n",
       "      <td>Акционеры «Северстали» на внеочередном общем с...</td>\n",
       "    </tr>\n",
       "  </tbody>\n",
       "</table>\n",
       "</div>"
      ],
      "text/plain": [
       "                                                          url  \\\n",
       "Date                                                            \n",
       "2024-12-23  https://www.finam.ru/publications/item/vysokik...   \n",
       "2024-12-17  https://www.finam.ru/publications/item/indeks-...   \n",
       "2024-12-16  https://www.finam.ru/publications/item/aktsion...   \n",
       "2024-12-13  https://www.finam.ru/publications/item/perspek...   \n",
       "2024-09-12  https://www.finam.ru/publications/item/aktsion...   \n",
       "\n",
       "                                                news_combined  \n",
       "Date                                                           \n",
       "2024-12-23  Северсталь может пересмотреть инвестиции в 202...  \n",
       "2024-12-17  Во вторник, 17 декабря, российский фондовый ры...  \n",
       "2024-12-16  В понедельник, 16 декабря, акционеры «Лензолот...  \n",
       "2024-12-13  Давайте поговорим о нашем видении перспектив р...  \n",
       "2024-09-12  Акционеры «Северстали» на внеочередном общем с...  "
      ]
     },
     "execution_count": 131,
     "metadata": {},
     "output_type": "execute_result"
    }
   ],
   "source": [
    "df.set_index('Date', inplace=True)\n",
    "df.head()"
   ]
  },
  {
   "cell_type": "code",
   "execution_count": 132,
   "metadata": {},
   "outputs": [
    {
     "data": {
      "text/html": [
       "<div>\n",
       "<style scoped>\n",
       "    .dataframe tbody tr th:only-of-type {\n",
       "        vertical-align: middle;\n",
       "    }\n",
       "\n",
       "    .dataframe tbody tr th {\n",
       "        vertical-align: top;\n",
       "    }\n",
       "\n",
       "    .dataframe thead th {\n",
       "        text-align: right;\n",
       "    }\n",
       "</style>\n",
       "<table border=\"1\" class=\"dataframe\">\n",
       "  <thead>\n",
       "    <tr style=\"text-align: right;\">\n",
       "      <th></th>\n",
       "      <th>url</th>\n",
       "      <th>news_combined</th>\n",
       "    </tr>\n",
       "    <tr>\n",
       "      <th>Date</th>\n",
       "      <th></th>\n",
       "      <th></th>\n",
       "    </tr>\n",
       "  </thead>\n",
       "  <tbody>\n",
       "    <tr>\n",
       "      <th>2021-01-04</th>\n",
       "      <td>https://www.finam.ru/publications/item/igrokam...</td>\n",
       "      <td>Многие новости мы с вами обсудили еще в прошло...</td>\n",
       "    </tr>\n",
       "    <tr>\n",
       "      <th>2021-01-06</th>\n",
       "      <td>https://www.finam.ru/publications/item/minprom...</td>\n",
       "      <td>МОСКВА, 1 июн - РИА Новости. Вопрос дополнител...</td>\n",
       "    </tr>\n",
       "    <tr>\n",
       "      <th>2021-01-08</th>\n",
       "      <td>https://www.finam.ru/publications/item/severst...</td>\n",
       "      <td>С июля 2021 г. \"Северсталь\" стала самым дороги...</td>\n",
       "    </tr>\n",
       "    <tr>\n",
       "      <th>2021-01-09</th>\n",
       "      <td>https://www.finam.ru/publications/item/sobytiy...</td>\n",
       "      <td>В четверг, 2 августа, \"Северсталь\" закроет див...</td>\n",
       "    </tr>\n",
       "    <tr>\n",
       "      <th>2021-01-10</th>\n",
       "      <td>https://www.finam.ru/publications/item/finalny...</td>\n",
       "      <td>Не успели российские металлурги оправиться пос...</td>\n",
       "    </tr>\n",
       "  </tbody>\n",
       "</table>\n",
       "</div>"
      ],
      "text/plain": [
       "                                                          url  \\\n",
       "Date                                                            \n",
       "2021-01-04  https://www.finam.ru/publications/item/igrokam...   \n",
       "2021-01-06  https://www.finam.ru/publications/item/minprom...   \n",
       "2021-01-08  https://www.finam.ru/publications/item/severst...   \n",
       "2021-01-09  https://www.finam.ru/publications/item/sobytiy...   \n",
       "2021-01-10  https://www.finam.ru/publications/item/finalny...   \n",
       "\n",
       "                                                news_combined  \n",
       "Date                                                           \n",
       "2021-01-04  Многие новости мы с вами обсудили еще в прошло...  \n",
       "2021-01-06  МОСКВА, 1 июн - РИА Новости. Вопрос дополнител...  \n",
       "2021-01-08  С июля 2021 г. \"Северсталь\" стала самым дороги...  \n",
       "2021-01-09  В четверг, 2 августа, \"Северсталь\" закроет див...  \n",
       "2021-01-10  Не успели российские металлурги оправиться пос...  "
      ]
     },
     "execution_count": 132,
     "metadata": {},
     "output_type": "execute_result"
    }
   ],
   "source": [
    "df = df.sort_index()\n",
    "df.head()"
   ]
  },
  {
   "cell_type": "code",
   "execution_count": 133,
   "metadata": {},
   "outputs": [
    {
     "data": {
      "image/png": "[encoded data removed]",
      "text/plain": [
       "<Figure size 640x480 with 1 Axes>"
      ]
     },
     "metadata": {},
     "output_type": "display_data"
    }
   ],
   "source": [
    "import requests\n",
    "from matplotlib import pyplot as plt\n",
    "\n",
    "j = requests.get('http://iss.moex.com/iss/engines/stock/markets/shares/securities/CHMF/candles.json?from=2021-01-04&till=2024-12-28&interval=24').json()\n",
    "data = [{k : r[i] for i, k in enumerate(j['candles']['columns'])} for r in j['candles']['data']]\n",
    "frame = pd.DataFrame(data)\n",
    "plt.plot(list(frame['close']))\n",
    "plt.savefig(\"shares.png\")"
   ]
  },
  {
   "cell_type": "code",
   "execution_count": 134,
   "metadata": {},
   "outputs": [],
   "source": [
    "frame['Date'] = pd.to_datetime(frame.begin).dt.date\n",
    "frame.drop(columns=['begin', 'end'], inplace=True)\n",
    "frame.set_index('Date', inplace=True)"
   ]
  },
  {
   "cell_type": "code",
   "execution_count": 135,
   "metadata": {},
   "outputs": [],
   "source": [
    "df = frame.merge(df, how='inner', left_index=True, right_index=True)"
   ]
  },
  {
   "cell_type": "code",
   "execution_count": 136,
   "metadata": {},
   "outputs": [
    {
     "data": {
      "text/html": [
       "<div>\n",
       "<style scoped>\n",
       "    .dataframe tbody tr th:only-of-type {\n",
       "        vertical-align: middle;\n",
       "    }\n",
       "\n",
       "    .dataframe tbody tr th {\n",
       "        vertical-align: top;\n",
       "    }\n",
       "\n",
       "    .dataframe thead th {\n",
       "        text-align: right;\n",
       "    }\n",
       "</style>\n",
       "<table border=\"1\" class=\"dataframe\">\n",
       "  <thead>\n",
       "    <tr style=\"text-align: right;\">\n",
       "      <th></th>\n",
       "      <th>open</th>\n",
       "      <th>close</th>\n",
       "      <th>high</th>\n",
       "      <th>low</th>\n",
       "      <th>value</th>\n",
       "      <th>volume</th>\n",
       "      <th>url</th>\n",
       "      <th>news_combined</th>\n",
       "    </tr>\n",
       "    <tr>\n",
       "      <th>Date</th>\n",
       "      <th></th>\n",
       "      <th></th>\n",
       "      <th></th>\n",
       "      <th></th>\n",
       "      <th></th>\n",
       "      <th></th>\n",
       "      <th></th>\n",
       "      <th></th>\n",
       "    </tr>\n",
       "  </thead>\n",
       "  <tbody>\n",
       "    <tr>\n",
       "      <th>2021-01-04</th>\n",
       "      <td>1324.0</td>\n",
       "      <td>1343.2</td>\n",
       "      <td>1364.0</td>\n",
       "      <td>1324.0</td>\n",
       "      <td>1.349278e+09</td>\n",
       "      <td>999393</td>\n",
       "      <td>https://www.finam.ru/publications/item/igrokam...</td>\n",
       "      <td>Многие новости мы с вами обсудили еще в прошло...</td>\n",
       "    </tr>\n",
       "    <tr>\n",
       "      <th>2021-01-06</th>\n",
       "      <td>1334.0</td>\n",
       "      <td>1326.4</td>\n",
       "      <td>1340.6</td>\n",
       "      <td>1317.8</td>\n",
       "      <td>1.117402e+09</td>\n",
       "      <td>840831</td>\n",
       "      <td>https://www.finam.ru/publications/item/minprom...</td>\n",
       "      <td>МОСКВА, 1 июн - РИА Новости. Вопрос дополнител...</td>\n",
       "    </tr>\n",
       "    <tr>\n",
       "      <th>2021-01-08</th>\n",
       "      <td>1333.0</td>\n",
       "      <td>1369.2</td>\n",
       "      <td>1384.8</td>\n",
       "      <td>1332.8</td>\n",
       "      <td>2.298607e+09</td>\n",
       "      <td>1690048</td>\n",
       "      <td>https://www.finam.ru/publications/item/severst...</td>\n",
       "      <td>С июля 2021 г. \"Северсталь\" стала самым дороги...</td>\n",
       "    </tr>\n",
       "    <tr>\n",
       "      <th>2021-01-12</th>\n",
       "      <td>1346.0</td>\n",
       "      <td>1332.8</td>\n",
       "      <td>1361.6</td>\n",
       "      <td>1318.0</td>\n",
       "      <td>1.789184e+09</td>\n",
       "      <td>1343224</td>\n",
       "      <td>https://www.finam.ru/publications/item/severst...</td>\n",
       "      <td>\"Северсталь\" снизит выбросы на Череповецком ме...</td>\n",
       "    </tr>\n",
       "    <tr>\n",
       "      <th>2021-02-08</th>\n",
       "      <td>1288.0</td>\n",
       "      <td>1296.4</td>\n",
       "      <td>1306.4</td>\n",
       "      <td>1285.0</td>\n",
       "      <td>1.682197e+09</td>\n",
       "      <td>1297139</td>\n",
       "      <td>https://www.finam.ru/publications/item/rezulta...</td>\n",
       "      <td>С 1 августа вступили в силу временные пошлины ...</td>\n",
       "    </tr>\n",
       "  </tbody>\n",
       "</table>\n",
       "</div>"
      ],
      "text/plain": [
       "              open   close    high     low         value   volume  \\\n",
       "Date                                                                \n",
       "2021-01-04  1324.0  1343.2  1364.0  1324.0  1.349278e+09   999393   \n",
       "2021-01-06  1334.0  1326.4  1340.6  1317.8  1.117402e+09   840831   \n",
       "2021-01-08  1333.0  1369.2  1384.8  1332.8  2.298607e+09  1690048   \n",
       "2021-01-12  1346.0  1332.8  1361.6  1318.0  1.789184e+09  1343224   \n",
       "2021-02-08  1288.0  1296.4  1306.4  1285.0  1.682197e+09  1297139   \n",
       "\n",
       "                                                          url  \\\n",
       "Date                                                            \n",
       "2021-01-04  https://www.finam.ru/publications/item/igrokam...   \n",
       "2021-01-06  https://www.finam.ru/publications/item/minprom...   \n",
       "2021-01-08  https://www.finam.ru/publications/item/severst...   \n",
       "2021-01-12  https://www.finam.ru/publications/item/severst...   \n",
       "2021-02-08  https://www.finam.ru/publications/item/rezulta...   \n",
       "\n",
       "                                                news_combined  \n",
       "Date                                                           \n",
       "2021-01-04  Многие новости мы с вами обсудили еще в прошло...  \n",
       "2021-01-06  МОСКВА, 1 июн - РИА Новости. Вопрос дополнител...  \n",
       "2021-01-08  С июля 2021 г. \"Северсталь\" стала самым дороги...  \n",
       "2021-01-12  \"Северсталь\" снизит выбросы на Череповецком ме...  \n",
       "2021-02-08  С 1 августа вступили в силу временные пошлины ...  "
      ]
     },
     "execution_count": 136,
     "metadata": {},
     "output_type": "execute_result"
    }
   ],
   "source": [
    "df.head()"
   ]
  },
  {
   "cell_type": "code",
   "execution_count": 137,
   "metadata": {},
   "outputs": [
    {
     "name": "stderr",
     "output_type": "stream",
     "text": [
      "[nltk_data] Downloading package stopwords to\n",
      "[nltk_data]     C:\\Users\\andrey\\AppData\\Roaming\\nltk_data...\n",
      "[nltk_data]   Package stopwords is already up-to-date!\n",
      "[nltk_data] Downloading package punkt to\n",
      "[nltk_data]     C:\\Users\\andrey\\AppData\\Roaming\\nltk_data...\n",
      "[nltk_data]   Package punkt is already up-to-date!\n",
      "[nltk_data] Downloading package punkt_tab to\n",
      "[nltk_data]     C:\\Users\\andrey\\AppData\\Roaming\\nltk_data...\n",
      "[nltk_data]   Package punkt_tab is already up-to-date!\n"
     ]
    },
    {
     "data": {
      "text/plain": [
       "True"
      ]
     },
     "execution_count": 137,
     "metadata": {},
     "output_type": "execute_result"
    }
   ],
   "source": [
    "from nltk.corpus import stopwords\n",
    "from nltk.tokenize import word_tokenize\n",
    "import nltk\n",
    "\n",
    "nltk.download('stopwords')\n",
    "nltk.download('punkt')\n",
    "nltk.download('punkt_tab')"
   ]
  },
  {
   "cell_type": "code",
   "execution_count": 138,
   "metadata": {},
   "outputs": [],
   "source": [
    "import re\n",
    "\n",
    "def clean_text(text):\n",
    "    text = text.replace('\\xa0', ' ').replace('\\n', ' ')\n",
    "    text = re.sub(r'[\\s]+', ' ', text)\n",
    "    return re.sub(r'[^\\w\\s]', '', text).strip()\n",
    "\n",
    "def remove_stopwords(text):\n",
    "    stop_words = set(stopwords.words('russian'))\n",
    "    words = word_tokenize(text)\n",
    "    filtered_text = ' '.join([word.lower() for word in words if word.lower() not in stop_words])\n",
    "    return filtered_text\n",
    "\n",
    "df['words'] = df['news_combined'].apply(clean_text).apply(remove_stopwords)"
   ]
  },
  {
   "cell_type": "code",
   "execution_count": 139,
   "metadata": {},
   "outputs": [],
   "source": [
    "from sklearn.model_selection import train_test_split, GridSearchCV\n",
    "\n",
    "X = df['words']\n",
    "y = (df['close']-df['open'])/df['close'] * 100"
   ]
  },
  {
   "cell_type": "code",
   "execution_count": 141,
   "metadata": {},
   "outputs": [],
   "source": [
    "from sklearn.feature_extraction.text import TfidfVectorizer\n",
    "vectorizer = TfidfVectorizer(max_features=500)\n",
    "X_vectorized = vectorizer.fit_transform(X)\n",
    "\n",
    "X_train, X_test, y_train, y_test = train_test_split(X_vectorized, y, test_size=0.2, random_state=42)"
   ]
  },
  {
   "cell_type": "code",
   "execution_count": 142,
   "metadata": {},
   "outputs": [
    {
     "name": "stdout",
     "output_type": "stream",
     "text": [
      "Training LinearRegression...\n",
      "Completed LinearRegression: {'MSE': 19.88352846192357, 'MAE': 2.8376666388548877, 'R2': -0.40328412998624574}\n",
      "Training RandomForest...\n",
      "Completed RandomForest: {'MSE': 14.546010229676234, 'MAE': 2.1954233378850376, 'R2': -0.026587677786215957}\n",
      "Training SVR...\n",
      "Completed SVR: {'MSE': 14.26935326402149, 'MAE': 2.0782890124870255, 'R2': -0.0070625552659902}\n",
      "\n",
      "Summary of Results:\n",
      "LinearRegression: Best Params: {} - Metrics: {'MSE': 19.88352846192357, 'MAE': 2.8376666388548877, 'R2': -0.40328412998624574}\n",
      "RandomForest: Best Params: {'max_depth': 20, 'n_estimators': 100} - Metrics: {'MSE': 14.546010229676234, 'MAE': 2.1954233378850376, 'R2': -0.026587677786215957}\n",
      "SVR: Best Params: {'C': 0.1, 'gamma': 'auto', 'kernel': 'rbf'} - Metrics: {'MSE': 14.26935326402149, 'MAE': 2.0782890124870255, 'R2': -0.0070625552659902}\n"
     ]
    }
   ],
   "source": [
    "from sklearn.metrics import mean_squared_error, mean_absolute_error, r2_score\n",
    "from sklearn.linear_model import LinearRegression\n",
    "from sklearn.svm import SVR\n",
    "from sklearn.ensemble import RandomForestRegressor\n",
    "\n",
    "param_grids = {\n",
    "    'LinearRegression': {},  # Нет гиперпараметров для настройки\n",
    "    'RandomForest': {\n",
    "        'n_estimators': [100, 200, 300],\n",
    "        'max_depth': [None, 10, 20],\n",
    "    },\n",
    "    'SVR': {\n",
    "        'kernel': ['linear', 'rbf'],\n",
    "        'C': [0.1, 1, 10],\n",
    "        'gamma': ['scale', 'auto'],\n",
    "    },\n",
    "}\n",
    "\n",
    "models = {\n",
    "    'LinearRegression': LinearRegression(),\n",
    "    'RandomForest': RandomForestRegressor(random_state=42),\n",
    "    'SVR': SVR(),\n",
    "}\n",
    "\n",
    "metrics = {\n",
    "    'MSE': mean_squared_error,\n",
    "    'MAE': mean_absolute_error,\n",
    "    'R2': r2_score,\n",
    "}\n",
    "\n",
    "# Результаты\n",
    "results = {}\n",
    "\n",
    "# Обучение моделей\n",
    "for model_name, model in models.items():\n",
    "    print(f\"Training {model_name}...\")\n",
    "\n",
    "    # Настройка гиперпараметров\n",
    "    grid_search = GridSearchCV(model, param_grids.get(model_name, {}), cv=3, scoring='neg_mean_squared_error', n_jobs=-1)\n",
    "    grid_search.fit(X_train, y_train)\n",
    "\n",
    "    # Лучшие параметры и модель\n",
    "    best_model = grid_search.best_estimator_\n",
    "    results[model_name] = {'best_params': grid_search.best_params_}\n",
    "\n",
    "    # Предсказания\n",
    "    y_pred = best_model.predict(X_test)\n",
    "\n",
    "    # Оценка метрик\n",
    "    results[model_name]['metrics'] = {metric_name: metric_func(y_test, y_pred) for metric_name, metric_func in metrics.items()}\n",
    "    print(f\"Completed {model_name}: {results[model_name]['metrics']}\")\n",
    "\n",
    "# Вывод результатов\n",
    "print(\"\\nSummary of Results:\")\n",
    "for model_name, result in results.items():\n",
    "    print(f\"{model_name}: Best Params: {result['best_params']} - Metrics: {result['metrics']}\")"
   ]
  }
 ],
 "metadata": {
  "kernelspec": {
   "display_name": "Python 3",
   "language": "python",
   "name": "python3"
  },
  "language_info": {
   "codemirror_mode": {
    "name": "ipython",
    "version": 3
   },
   "file_extension": ".py",
   "mimetype": "text/x-python",
   "name": "python",
   "nbconvert_exporter": "python",
   "pygments_lexer": "ipython3",
   "version": "3.12.0"
  }
 },
 "nbformat": 4,
 "nbformat_minor": 2
}
