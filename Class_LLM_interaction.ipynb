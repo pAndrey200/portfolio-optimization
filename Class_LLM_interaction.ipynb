{
  "nbformat": 4,
  "nbformat_minor": 0,
  "metadata": {
    "colab": {
      "provenance": [],
      "authorship_tag": "ABX9TyMQxqOH8edqn5tXnjUT1Yjc",
      "include_colab_link": true
    },
    "kernelspec": {
      "name": "python3",
      "display_name": "Python 3"
    },
    "language_info": {
      "name": "python"
    }
  },
  "cells": [
    {
      "cell_type": "markdown",
      "metadata": {
        "id": "view-in-github",
        "colab_type": "text"
      },
      "source": [
        "<a href=\"https://colab.research.google.com/github/pAndrey200/portfolio-optimization/blob/main/Class_LLM_interaction.ipynb\" target=\"_parent\"><img src=\"https://colab.research.google.com/assets/colab-badge.svg\" alt=\"Open In Colab\"/></a>"
      ]
    },
    {
      "cell_type": "code",
      "execution_count": null,
      "metadata": {
        "id": "1rtYt3YfN6_X"
      },
      "outputs": [],
      "source": [
        "import requests\n",
        "from pprint import pprint\n",
        "import pandas as pd\n",
        "\n",
        "class LLM_Interaction:\n",
        "    def __init__(self, api_key):\n",
        "        self.api_key = api_key\n",
        "\n",
        "    def send_request(self, query):\n",
        "        headers = {\n",
        "            'Authorization': 'Bearer ' + self.api_key,\n",
        "            'Content-Type': 'application/json'\n",
        "        }\n",
        "        data = {\n",
        "            \"prompt\": query\n",
        "        }\n",
        "\n",
        "        response = requests.post('https://api.ya.ru/v1/documents', headers=headers, json=data)\n",
        "        return response.text\n",
        "\n",
        "    def get_response(self, query):\n",
        "        response_text = self.send_request(query)\n",
        "        pprint(response_text)\n",
        "        return response_text\n",
        "\n",
        "    # Загрузка данных\n",
        "    def load_data(self, path):\n",
        "        df = pd.read_csv(path)\n",
        "        # Предварительная обработка данных (например, токенизация, удаление стоп-слов)\n",
        "        X = df['text']  # Текст новостей\n",
        "        y = df['price']  # Цена акций\n",
        "        return X, y\n",
        "\n",
        "    # Обучение модели\n",
        "    def train_model(self, X, y):\n",
        "        # Выбор алгоритма машинного обучения\n",
        "        model = ...\n",
        "        # Настройка гиперпараметров\n",
        "        ...\n",
        "        # Обучение модели на данных\n",
        "        model.fit(X, y)\n",
        "        return model\n",
        "\n",
        "    # Оценка качества модели\n",
        "    def evaluate_model(self, model, X_test, y_test):\n",
        "        predictions = model.predict(X_test)\n",
        "        accuracy = ...  # Метрика точности\n",
        "        precision = ...  # Метрика полноты\n",
        "        f1_score = ...  # F1-мера\n",
        "        return accuracy, precision, f1_score\n",
        "\n",
        "# Пример использования класса\n",
        "if __name__ == '__main__':\n",
        "    llm_interaction = LLM_Interaction('YOUR_API_KEY_HERE')\n",
        "    query = \"Какие факторы влияют на цену акций компании XYZ?\"\n",
        "    response_text = llm_interaction.get_response(query)\n",
        "\n",
        "    X, y = llm_interaction.load_data('data.csv')  # Загрузка данных из файла\n",
        "    model = llm_interaction.train_model(X, y)  # Обучение модели\n",
        "    accuracy, precision, f1_score = llm_interaction.evaluate_model(model, X_test, y_test)  # Оценка качества модели\n",
        "\n",
        "    print(\"Точность модели:\", accuracy)\n",
        "    print(\"Полнота модели:\", precision)\n",
        "    print(\"F1-мера модели:\", f1_score)"
      ]
    }
  ]
}